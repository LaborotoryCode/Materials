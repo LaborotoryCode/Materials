{
  "cells": [
    {
      "cell_type": "markdown",
      "metadata": {
        "id": "VQKCF2DbPAKL"
      },
      "source": [
        "# Exercise 17\n",
        "\n",
        "Related Notes:\n",
        "- Chapter_11_Fundamental_Algorithms\n",
        "\n",
        "[![Open In Colab](https://colab.research.google.com/assets/colab-badge.svg)](https://colab.research.google.com/github/njc-cz2-2021/Materials/blob/main/Exercises/Exercise-17-Fundamental-Algorithms.ipynb)"
      ]
    },
    {
      "cell_type": "markdown",
      "metadata": {
        "id": "LP7xh1QLPAKM"
      },
      "source": [
        "## Exercise 17.1\n",
        "\n",
        "Write the function `linearSearch1`, which takes in 2 parameters:\n",
        "\n",
        "1. a list of integers, `L`,\n",
        "2. a target integer, `t`.\n",
        "\n",
        "This function will return the index of any instance of `t` in `L`. If `t` does not exist in `L`, then the function will return `-1`. Your implementation should be based on the linear search algorithm."
      ]
    },
    {
      "cell_type": "code",
      "execution_count": null,
      "metadata": {
        "id": "9uPYjObFPAKM"
      },
      "outputs": [],
      "source": [
        "#YOUR_CODE_HERE\n",
        "def linearSearch1(L, t):\n",
        "  for i in range(L):\n",
        "    if L[i] == t:\n",
        "      return i\n",
        "  return -1"
      ]
    },
    {
      "cell_type": "markdown",
      "metadata": {
        "id": "gGC9TVWqPAKM"
      },
      "source": [
        "## Exercise 17.2\n",
        "\n",
        "Write the function `binarySearch1`, which takes in 2 parameters:\n",
        "\n",
        "1. a list of integers, `L`, which is sorted in ascending order  and\n",
        "2. a target integer, `t`.\n",
        "\n",
        "This function will return the index of any instance of `t` in `L`. If `t` does not exist in `L`, then the function will return `-1`. Your implementation should be based on the binary search algorithm."
      ]
    },
    {
      "cell_type": "code",
      "execution_count": null,
      "metadata": {
        "colab": {
          "base_uri": "https://localhost:8080/"
        },
        "id": "NZZbI3DcPAKM",
        "outputId": "f8fa88b0-b92f-4633-9740-283ef5fe6cd7"
      },
      "outputs": [
        {
          "output_type": "stream",
          "name": "stdout",
          "text": [
            "temp 5\n",
            "0 4\n",
            "temp 3\n",
            "0 2\n",
            "temp 2\n",
            "0 1\n",
            "temp 1\n",
            "0 0\n",
            "-1\n"
          ]
        }
      ],
      "source": [
        "#YOUR_CODE_HERE\n",
        "def binarySearch1(L, t):\n",
        "  n = len(L)\n",
        "  low, high = 0, n-1\n",
        "  while low<high:\n",
        "    temp = ((high-low)//2)+low+1\n",
        "    print(\"temp\", temp)\n",
        "    if L[temp] == t:\n",
        "      return \"Answer: \"+str(temp)\n",
        "    elif L[temp] > t:\n",
        "      high = temp-1\n",
        "    else:\n",
        "      low=temp\n",
        "    print(low, high)\n",
        "  return -1\n",
        "\n",
        "print(binarySearch1([1, 2, 3, 4, 5, 6, 7, 8, 9], 0))"
      ]
    },
    {
      "cell_type": "markdown",
      "metadata": {
        "id": "iNB6Qvt0PAKM"
      },
      "source": [
        "## Exercise 17.3\n",
        "\n",
        "Write the function `binarySearch2`, which takes in 2 parameters:\n",
        "\n",
        "1. a list of integers, `L`, sorted in descending order, and\n",
        "2.  a target integer, `t`.\n",
        "\n",
        "This function will return the index of any instance of `t` in `L`. If `t` does not exist in `L`, then the function will return `-1`. Your implementation should be based on the binary search algorithm.\n"
      ]
    },
    {
      "cell_type": "code",
      "execution_count": null,
      "metadata": {
        "colab": {
          "base_uri": "https://localhost:8080/"
        },
        "id": "Bl3JuWu-PAKM",
        "outputId": "ff96c257-8dc3-4173-c16e-558251e9da43"
      },
      "outputs": [
        {
          "output_type": "stream",
          "name": "stdout",
          "text": [
            "temp 5\n",
            "5 8\n",
            "temp 7\n",
            "5 6\n",
            "temp 6\n",
            "Answer: 6\n"
          ]
        }
      ],
      "source": [
        "#YOUR_CODE_HERE\n",
        "\n",
        "def binarySearch2(L, t):\n",
        "  n = len(L)\n",
        "  low, high = 0, n-1\n",
        "  while low<high:\n",
        "    temp = ((high-low)//2)+low+1\n",
        "    print(\"temp\", temp)\n",
        "    if L[temp] == t:\n",
        "      return \"Answer: \"+str(temp)\n",
        "    elif L[temp] > t:\n",
        "      low = temp\n",
        "    else:\n",
        "      high=temp-1\n",
        "    print(low, high)\n",
        "  return -1\n",
        "\n",
        "print(binarySearch2([9, 8, 7, 6, 5, 4, 3, 2, 1], 3))"
      ]
    },
    {
      "cell_type": "markdown",
      "metadata": {
        "id": "wc7nvE4ZPAKM"
      },
      "source": [
        "## Exercise 17.4\n",
        "\n",
        "Write the function `linearSearch2`, which takes in 2 parameters:\n",
        "\n",
        "1. a list of integers, `L`, and\n",
        "2. a target integer, `t`.\n",
        "\n",
        "This function will return the index of any instance in `L` that is **just greater** than `t`.\n",
        "\n",
        "We define an element `t'` in `L` is “just greater” than `t` if `t'` is greater than `t`, but less than (or equals) to any other element in `L` that is greater than `t`. If such any element does not exist in `L`, then the function will return `-1`. Your implementation should be based on the linear search algorithm."
      ]
    },
    {
      "cell_type": "code",
      "execution_count": null,
      "metadata": {
        "colab": {
          "base_uri": "https://localhost:8080/"
        },
        "id": "Y7Mf8u7BPAKN",
        "outputId": "ed7c23d7-2522-485d-f57f-59a7c4bb3e21"
      },
      "outputs": [
        {
          "output_type": "stream",
          "name": "stdout",
          "text": [
            "0\n"
          ]
        }
      ],
      "source": [
        "#YOUR_CODE_HERE\n",
        "\n",
        "def linearSearch2(L, t):\n",
        "  n = len(L)\n",
        "  for i in range(n):\n",
        "    if L[i] > t:\n",
        "      valid=True\n",
        "      for e in range(n):\n",
        "        if L[i] >= L[e] and i!=e and L[e]>t:\n",
        "          valid=False\n",
        "      if valid:\n",
        "        return i\n",
        "\n",
        "  return -1\n",
        "\n",
        "print(linearSearch2([5, 10, 15], 4))\n"
      ]
    },
    {
      "cell_type": "markdown",
      "metadata": {
        "id": "MYUrBnVDPAKN"
      },
      "source": [
        "## Exercise 17.5\n",
        "\n",
        "Write the function `linearSearch3`, which takes in 2 parameters:\n",
        "\n",
        "1. a list of integers, `L`, and\n",
        "2. a target integer, `t`.\n",
        "\n",
        "This function will return the index of any instance in `L` that is **just less** than `t`.\n",
        "\n",
        "We define an element `t'` in `L` is “just less” than `t` if `t'` is less than `t`, but greater than (or equals) to any other element in `L` that is less than `t`. If such any element does not exist in `L`, then the function will return `-1`. Your implementation should be based on the linear search algorithm."
      ]
    },
    {
      "cell_type": "code",
      "execution_count": null,
      "metadata": {
        "id": "tS3qlxPyPAKN",
        "colab": {
          "base_uri": "https://localhost:8080/"
        },
        "outputId": "9e52d07e-6342-446e-b5b5-e95414141b15"
      },
      "outputs": [
        {
          "output_type": "stream",
          "name": "stdout",
          "text": [
            "1\n",
            "-1\n",
            "0\n"
          ]
        }
      ],
      "source": [
        "#YOUR_CODE_HERE\n",
        "\n",
        "def linearSearch3(L, t):\n",
        "  n = len(L)\n",
        "  for i in range(n):\n",
        "    if L[i] < t:\n",
        "      valid=True\n",
        "      for e in range(n):\n",
        "        if L[i] <= L[e] and i!=e and L[e]<t:\n",
        "          valid=False\n",
        "      if valid:\n",
        "        return i\n",
        "\n",
        "  return -1"
      ]
    },
    {
      "cell_type": "markdown",
      "metadata": {
        "id": "yNXlxrzCPAKN"
      },
      "source": [
        "## Exercise 17.6\n",
        "\n",
        "The text file `DATA.TXT` contains student test scores. Each line of the file scores the results of a single student, and has the following format:\n",
        "\n",
        ">```python\n",
        "><student name>,<test score 1>,<test score 2>,<test score 3>,<test score 4>\n",
        ">```\n",
        "\n",
        "Here, <student name> is a string of letters, and each <test score i> corresponds to an integer.\n",
        "\n",
        "The maximum values for the test scores are as follows.\n",
        "- Test score 1 and 2: 50\n",
        "- Test score 3 and 4: 100\n",
        "\n",
        "The overall score for each student may be calculated by using the following weights:\n",
        "- Test score 1: 10%\n",
        "- Test score 2: 15%\n",
        "- Test score 3: 25%\n",
        "- Test score 4: 50%\n",
        "\n",
        "Write a script that will perform the following.\n",
        "\n",
        "1. Repeatedly ask the user if they wish to perform a search. If they reply no, the script terminates, else the script continues.\n",
        "\n",
        "2.  Asks the user to input one of the following search categories:\n",
        "\t- Overall score\n",
        "\t- Test score 1\n",
        "\t- Test score 2\n",
        "\t- Test score 3\n",
        "\t- Test score 4\n",
        "\n",
        "3. Asks the user to input a search parameter (i.e., the score that they wish to search for).\n",
        "\n",
        "4. Prints ALL the names of students that satisfy the search criteria. Note that you must implement an augmented version of linear search to perform this functionality.\n",
        "\n",
        "5. The script should then continue to the main loop in 1.\n",
        "\n",
        "Your implementation must include all necessary exception handling.\n"
      ]
    },
    {
      "cell_type": "code",
      "source": [
        "def root() -> int:\n",
        "  return \"ME\"\n",
        "\n",
        "print(type(root()))"
      ],
      "metadata": {
        "colab": {
          "base_uri": "https://localhost:8080/"
        },
        "id": "EKXb_CNACSqx",
        "outputId": "04112755-2bf2-48b4-9852-6ff9ba015c2c"
      },
      "execution_count": null,
      "outputs": [
        {
          "output_type": "stream",
          "name": "stdout",
          "text": [
            "<class 'str'>\n"
          ]
        }
      ]
    },
    {
      "cell_type": "code",
      "execution_count": null,
      "metadata": {
        "id": "hh0WWOYiPAKN",
        "colab": {
          "base_uri": "https://localhost:8080/"
        },
        "outputId": "f7a4805a-754c-4732-9574-a3f2243df0eb"
      },
      "outputs": [
        {
          "name": "stdout",
          "output_type": "stream",
          "text": [
            "[['SAXUVCWMMZFQ', '37', '29', '80', '50'], ['KRZXRLACEXAQ', '21', '36', '46', '77'], ['VHYPHWQDDROT', '31', '22', '55', '45'], ['XELLQSWHTKTD', '30', '30', '94', '84'], ['FXEJXGRQKAKQ', '31', '17', '83', '76'], ['DMRZPDUJFPAU', '23', '25', '87', '69'], ['DSVNSNBXKXPG', '31', '32', '81', '82'], ['MDUQPXOEAXYX', '46', '23', '58', '41'], ['TJYOZUUHDCFF', '28', '50', '48', '58'], ['XATHIJHQAPNX', '21', '45', '83', '55'], ['MPKWZTPJMHIK', '31', '48', '79', '51'], ['USXABIEZPQWQ', '37', '29', '70', '83'], ['WLNOWMXGRWXE', '47', '18', '65', '58'], ['PAURDKPWKWWK', '25', '30', '84', '66'], ['KEELWGVTOLGR', '32', '33', '84', '55'], ['DJBLJZPENIVV', '22', '25', '97', '80'], ['OBJASDHRQLBB', '35', '24', '80', '52'], ['ORSPWHVMFPUY', '40', '19', '54', '48'], ['KHMIYKSKZSJX', '29', '42', '45', '87'], ['DQSGKAKWKZZT', '20', '33', '92', '81'], ['WUPZLZLIUPUC', '28', '21', '52', '62'], ['CQGRGZVWLLID', '42', '32', '92', '97'], ['IIOZPUAGPWXL', '24', '42', '75', '89'], ['DMADXSCCVQBW', '36', '47', '86', '77'], ['TCBYFREJNVKK', '47', '47', '54', '67'], ['YPQWPPMUVRNS', '41', '16', '53', '64'], ['UDHJIBKVXUVC', '49', '39', '70', '89'], ['CGEUGDDLKUBC', '44', '40', '96', '63'], ['LSGHPBMYDBBJ', '23', '16', '93', '87'], ['HNUTFBMNJOAA', '42', '46', '85', '70'], ['AQYQRPSYSICX', '32', '35', '61', '59'], ['MCXVNPHBHCVJ', '45', '47', '62', '56'], ['PZGGEUYJODWC', '30', '31', '57', '46'], ['FZWUNACTSHEN', '40', '41', '96', '87'], ['HSJJXOEWXQGI', '41', '24', '78', '41'], ['CIERCGVSBHPG', '22', '18', '72', '64'], ['OAQCSPIXDXSB', '46', '17', '88', '76'], ['WDKYMUPWKYHA', '40', '17', '88', '45'], ['OQTJNHZVXZTZ', '40', '27', '78', '42'], ['JOHRTHZPWDLI', '45', '48', '71', '89'], ['VPMOQQBFDGRC', '24', '40', '92', '70'], ['DNIAENHAJDVB', '45', '17', '50', '85'], ['NGDYTUXSDEBL', '47', '34', '96', '87'], ['PCJWXAPVRSFV', '29', '35', '87', '72'], ['ZNSLDMVHROXF', '39', '21', '80', '80'], ['IRCNZDIWZRYD', '41', '44', '59', '59'], ['QPCBFBHMTXFC', '49', '19', '68', '71'], ['GWPYNTLCUWDG', '39', '23', '98', '55'], ['XLMCFVCQUSSI', '27', '27', '77', '67'], ['MORSZJLLIYAF', '46', '24', '71', '61'], ['IDXGFKUMTVJA', '46', '36', '50', '95'], ['OPHDECRRFDJH', '49', '24', '55', '52'], ['HKOSFPHVJWVX', '44', '27', '79', '58'], ['TQGAAUNNQVCV', '48', '42', '88', '92'], ['INSVTBXCRFYI', '29', '33', '61', '49'], ['HPQAPAHITERV', '32', '31', '99', '63'], ['RQFIUVIBQFJN', '45', '20', '98', '57'], ['NXKJJCYUKMKD', '40', '35', '72', '50'], ['QWIFHIHCAEPF', '20', '30', '45', '79'], ['OQTADDLBPGQC', '21', '28', '91', '47'], ['LGWTLWRUVGYU', '35', '37', '85', '77'], ['GNETAWAVMAAP', '36', '22', '62', '75'], ['BJSXNFDDKZEF', '42', '16', '85', '48'], ['DHFWYXMMPWEZ', '42', '38', '87', '67'], ['SPPJPTCYNPAL', '45', '22', '72', '98'], ['BAQNOEJMLURU', '25', '38', '99', '96'], ['GZGIBCLICIAR', '36', '31', '63', '66'], ['QMKYJNZQJKAR', '41', '26', '53', '87'], ['ENTXBAZFFUDK', '44', '24', '57', '58'], ['SJGTHPGPEJPV', '44', '40', '99', '69'], ['XGARRMXMUMFZ', '38', '36', '81', '65'], ['NJQFQNIQVWTB', '35', '20', '57', '93'], ['QIKKYEVTRATT', '49', '39', '87', '42'], ['GCOGXWDCAOEE', '28', '43', '45', '97'], ['LOEVBLTHNZIO', '26', '36', '80', '64'], ['GHQWPOIBKZKI', '24', '26', '46', '87'], ['ENZMTGBZYDZJ', '30', '39', '75', '84'], ['EIOASFCXSBSC', '20', '49', '59', '47'], ['RBXGFLAFWMJT', '34', '16', '79', '86'], ['ZGCCAQDWTZAR', '36', '33', '89', '96'], ['QPDBTVNLWGOD', '37', '28', '58', '65'], ['OLRVOCXNBBOG', '41', '28', '79', '48'], ['FNREMTBACBSG', '33', '49', '74', '98'], ['KZNYWMRPSHRK', '30', '19', '72', '63'], ['VTWQWKBGKKJY', '42', '45', '78', '100'], ['KWCJIMEMFEKF', '43', '48', '51', '44'], ['TFFBBNOFBGLG', '26', '38', '79', '41'], ['JMNVXDFGGOLV', '28', '32', '49', '75'], ['NOOOPKOWAZSM', '47', '33', '98', '50'], ['GNBIHACFOLLI', '41', '16', '69', '78'], ['EHPTIYDFYIYQ', '39', '26', '45', '75'], ['FWQGPKUBZCQL', '34', '37', '70', '56'], ['IXXDHECZNTVB', '34', '41', '83', '61'], ['QWEXAEXEHRFU', '46', '25', '100', '65'], ['MPXNFBRQVRTZ', '20', '22', '51', '50'], ['EUZBLLOABPOY', '40', '16', '93', '43'], ['XTKWYBASFUTP', '35', '17', '67', '93'], ['UMVTYNBBSOHV', '42', '47', '96', '79'], ['BNQECTIFRDPQ', '43', '28', '50', '89'], ['JIFEIOMCFWAP', '46', '33', '93', '57']]\n",
            "You wanna search dawg(Y/n): y\n",
            "2\n",
            "37\n",
            "['SAXUVCWMMZFQ', 'USXABIEZPQWQ', 'QPDBTVNLWGOD']\n",
            "You wanna search dawg(Y/n): y\n",
            "1\n",
            "50\n",
            "[]\n",
            "You wanna search dawg(Y/n): n\n"
          ]
        }
      ],
      "source": [
        "#YOUR_CODE_HERE\n",
        "import csv\n",
        "\n",
        "with open(\"/content/DATA.TXT\", \"r\") as f:\n",
        "  out = []\n",
        "  s=csv.reader(f)\n",
        "  for row in s:\n",
        "    out.append(row)\n",
        "\n",
        "print(out)\n",
        "\n",
        "while 4<5:\n",
        "  user = input(\"You wanna search dawg(Y/n): \")\n",
        "  if user.upper() == \"N\":\n",
        "    break\n",
        "  else:\n",
        "    cat = int(input())\n",
        "    t = int(input())\n",
        "\n",
        "  if cat==1:\n",
        "    data = [((1/10)*int(x[1]))+((1.5/10)*int(x[2]))+((2.5/10)*int(x[3]))+((5/10)*int(x[4])) for x in out]\n",
        "  else:\n",
        "    data = [int(x[cat-1]) for x in out]\n",
        "\n",
        "  n = len(data)\n",
        "  result = []\n",
        "  for i in range(n):\n",
        "    if data[i]==t:\n",
        "      result.append(out[i][0])\n",
        "\n",
        "  print(result)"
      ]
    },
    {
      "cell_type": "markdown",
      "metadata": {
        "id": "Y96wAoR6PAKN"
      },
      "source": [
        "## Exercise 17.7\n",
        "\n",
        "Design an appropriate set of test cases to test if an implementation of a sorting algorithm (that sorts a list of integers). (Note, you should recall the 3 categories of test cases, and implement sufficient test cases for each.)"
      ]
    },
    {
      "cell_type": "code",
      "execution_count": null,
      "metadata": {
        "id": "0ryTuZgmPAKN"
      },
      "outputs": [],
      "source": [
        "#YOUR_CODE_HERE"
      ]
    },
    {
      "cell_type": "markdown",
      "metadata": {
        "id": "eF2yQxswPAKN"
      },
      "source": [
        "## Exercise 17.8\n",
        "\n",
        "Given a list of floating point values, `L`. Write the code to output:\n",
        "- The Minimum Value\n",
        "- The First Quartile Value\n",
        "- The Median Value\n",
        "- The Third Quartile Value\n",
        "- The Maximum Value\n",
        "\n",
        "You must implement the Quicksort algorithm to perform the necessary sorting.\n"
      ]
    },
    {
      "cell_type": "code",
      "execution_count": 10,
      "metadata": {
        "id": "dW_GLkwoPAKN",
        "outputId": "52c44944-5f1e-44ea-b1fa-35691bad9665",
        "colab": {
          "base_uri": "https://localhost:8080/"
        }
      },
      "outputs": [
        {
          "output_type": "stream",
          "name": "stdout",
          "text": [
            "5\n",
            "[3, 5, 6]\n",
            "1\n",
            "[1, 3, 5, 6]\n",
            "8\n",
            "[1, 3, 5, 6, 8]\n",
            "[1, 3, 5, 6, 8]\n"
          ]
        }
      ],
      "source": [
        "#YOUR_CODE_HERE\n",
        "L = [6,5,8,1,3]\n",
        "\n",
        "def quicksort(L):\n",
        "  if len(L)<=1:\n",
        "    return L\n",
        "  else:\n",
        "    pivot = L[len(L)//2]\n",
        "    left = quicksort([x for x in L if x<pivot])\n",
        "    right = quicksort([x for x in L if x>pivot])\n",
        "    return left+[pivot]+right\n",
        "\n",
        "print(quicksort(L))\n"
      ]
    },
    {
      "cell_type": "markdown",
      "metadata": {
        "id": "NmOgr_QRPAKN"
      },
      "source": [
        "## Exercise 17.9 2015/A Level/P1/Q1 H2 Computing\n",
        "\n",
        "The file `ADMISSIONS—DATA.TXT` contains the daily total admissions to a theme park over a period of 50 days.\n",
        "\n",
        "The task is to read the numbers from the file and display a sorted list.\n",
        "\n",
        "You will program two different sort algorithms:\n",
        "\n",
        "- A bubble sort.\n",
        "- Either a quick sort or an insertion sort but not both.\n",
        "\n",
        "### Task 1\n",
        "Write code for a procedure to display a menu with the following options:\n",
        "\n",
        ">```python\n",
        ">1. Read file data\n",
        ">2. Bubble sort\n",
        ">3. Quick sort / Insertion sort\n",
        ">4. End\n",
        ">```\n",
        "\n",
        "### Task 2\n",
        "Write the program code for a procedure to implement menu option 1.\n",
        "\n",
        "#### Evidence 1\n",
        "- The program code for the menu.\n",
        "- Program code for menu option 1.\n",
        "\n",
        "<div style=\"text-align: right\">[5]</div>\n",
        "\n",
        "Options 2 and 3 will sort and display the sorted data.\n",
        "\n",
        "The algorithm for a bubble sort is given in file `BUBBLE.TXT`.\n",
        "Write program code as a procedure to implement the bubble sort.\n",
        "\n",
        "#### Evidence 2\n",
        "\n",
        ". The bubble sort code procedure.\n",
        "<div style=\"text-align: right\">[1]</div>\n",
        "\n",
        "Write program code as a procedure to implement the quick sort or the insertion sort.\n",
        "\n",
        "#### Evidence 3\n",
        "\n",
        "- Indicate the sort method used.\n",
        "- The program for the sort method used.\n",
        "\n",
        "<div style=\"text-align: right\">[4]</div>\n"
      ]
    },
    {
      "cell_type": "code",
      "execution_count": null,
      "metadata": {
        "id": "bJR1wCmCPAKN"
      },
      "outputs": [],
      "source": [
        "#YOUR_CODE_HERE\n",
        "\n",
        "print(\"1. Read file data\")\n",
        "print(\"2. Bubble sort\")\n",
        "print(\"3. Quick sort / Insertion sort\")\n",
        "print(\"4. End\")\n",
        "\n",
        "data=[]\n",
        "with open(\"ADMISSIONS-DATA.txt\", \"r\") as f:\n",
        "  s = f.read()\n",
        "  for row in s:\n",
        "    data.append(row)\n",
        "\n",
        "for i in range(len(data)):\n",
        "  for j in range(len(data)-i-1):\n",
        "    if data[i]>data[i+1]:\n",
        "      data[i], data[i+1] = data[i+1], data[i]\n",
        "\n",
        "print(data)\n",
        "\n",
        "z=0\n",
        "for k in range(len(data)):\n",
        "  n = k\n",
        "  while data[k] < data[k-1] and k>1:\n",
        "    data[k], data[k-1] = data[k-1], data[k]\n",
        "    k-=1\n",
        "\n",
        "print(data)"
      ]
    },
    {
      "cell_type": "markdown",
      "metadata": {
        "id": "6kw4xF4pPAKN"
      },
      "source": [
        "### Task 3\n",
        "Additional code is to be written for each sort procedure. The sort methods will count and display the number of comparisons made in completing the sort process. This will provide an indicator of the efficiency of each algorithm.\n",
        "\n",
        "Write the additional code to count and display the number of comparisons made for each sort method.\n",
        "\n",
        "#### Evidence 4\n",
        "- The output from menu option 2.\n",
        "<div style=\"text-align: right\">[2]</div>\n",
        "\n",
        "#### Evidence 5\n",
        "- The output from menu option 3.\n",
        "<div style=\"text-align: right\">[2]</div>"
      ]
    },
    {
      "cell_type": "code",
      "execution_count": null,
      "metadata": {
        "id": "ZBFjhXZNPAKN"
      },
      "outputs": [],
      "source": [
        "#YOUR_CODE_HERE\n",
        "\n"
      ]
    },
    {
      "cell_type": "markdown",
      "metadata": {
        "id": "X6SABgnSPAKN"
      },
      "source": [
        "## Exercise 17.10 2018/A Level/P1/Q2 H2 Computing\n",
        "\n",
        "The following algorithm is an implementation of a quick sort that operates on an array `Scores`.\n",
        "\n",
        "This algorithm assumes that the first element of an array is the zeroth element. This means that `Scores[0]` is the first element in the array.\n",
        "\n",
        "This pseudocode is available in the file `QUICKSORT.TXT`\n",
        "\n",
        ">```\n",
        ">FUNCTION QuickSort(Scores)\n",
        ">    QuickSortHelper(Scores, 0, LENGTH(Scores) - 1)\n",
        ">    RETURN Scores\n",
        ">ENDFUNCTION\n",
        ">\n",
        ">FUNCTION QuickSortHelper(Scores, First, Last)\n",
        ">    IF First < Last\n",
        ">        THEN\n",
        ">            SplitPoint ← Partition(Scores, First, Last)\n",
        ">            QuickSortHelper(Scores, First, SplitPoint - 1)\n",
        ">            QuickSortHelper(Scores, SplitPoint + 1, Last)\n",
        ">    ENDIF\n",
        ">    RETURN Scores\n",
        ">ENDFUNCTION\n",
        ">\n",
        ">FUNCTION Partition(Scores, First, Last)\n",
        ">    PivotValue ← Scores[First]\n",
        ">    LeftMark ← First + 1\n",
        ">    RightMark ← Last\n",
        ">    Done ← FALSE\n",
        ">    WHILE (Done = FALSE)\n",
        ">        WHILE LeftMark <= RightMark AND Scores[LeftMark] <= PivotValue\n",
        ">            LeftMark ← LeftMark + 1\n",
        ">        ENDWHILE\n",
        ">            WHILE Scores[RightMark] >= PivotValue AND RightMark >= LeftMark\n",
        ">            RightMark ← RightMark - 1\n",
        ">        ENDWHILE\n",
        ">        IF RightMark < LeftMark\n",
        ">            THEN\n",
        ">                Done ← TRUE\n",
        ">        ELSE\n",
        ">            Temp ← Scores[LeftMark]\n",
        ">            Scores[LeftMark] ← Scores[RightMark]\n",
        ">            Scores[RightMark] ← Temp\n",
        ">        ENDIF\n",
        ">    ENDWHILE\n",
        ">\n",
        ">    ##<swap Scores[First] with Scores[RightMark]>##\n",
        ">    \n",
        ">    RETURN RightMark\n",
        ">ENDFUNCTION\n",
        ">```\n",
        "\n",
        "### Task 1\n",
        "Write program code to implement this algorithm. Ensure that you add the missing code to complete the algorithm. The area of missing code is highlighted as:\n",
        "\n",
        ">```\n",
        "> ##<swap Scores [First] with Scores [RightMark]>##\n",
        ">```\n",
        "\n",
        "Copy the sample data available in the `SCORES.TXT` file. Paste this into your programming code to set up the data to be sorted.\n",
        "\n",
        "#### Evidence 4\n",
        "Your program code.\n",
        "\n",
        "<div style=\"text-align: right\">[12]</div>"
      ]
    },
    {
      "cell_type": "code",
      "execution_count": null,
      "metadata": {
        "id": "5Lp1zHqdPAKO"
      },
      "outputs": [],
      "source": [
        "#YOUR_CODE_HERE"
      ]
    },
    {
      "cell_type": "markdown",
      "metadata": {
        "id": "GiXbs9cTPAKO"
      },
      "source": [
        "### Task 2\n",
        "Add a function to your code to output `Scores`. Call this function before and after the operation of the quick sort so that the unsorted and sorted data is displayed.\n",
        "\n",
        "#### Evidence 5\n",
        "Your program code.\n",
        "\n",
        "<div style=\"text-align: right\">[2]</div>\n",
        "\n",
        "#### Evidence 6\n",
        "Screenshot showing the unsorted and sorted Scores data.\n",
        "\n",
        "<div style=\"text-align: right\">[1]</div>"
      ]
    },
    {
      "cell_type": "code",
      "execution_count": null,
      "metadata": {
        "id": "DPt7WWgjPAKO"
      },
      "outputs": [],
      "source": [
        "#YOUR_CODE_HERE"
      ]
    }
  ],
  "metadata": {
    "kernelspec": {
      "display_name": "Python 3",
      "language": "python",
      "name": "python3"
    },
    "language_info": {
      "name": "python",
      "version": "3.10.2"
    },
    "orig_nbformat": 2,
    "vscode": {
      "interpreter": {
        "hash": "a42ccb73e7d9bfdf27e036f1d2b8b681e55fc0743cc5586bc2474d4a60f4b886"
      }
    },
    "colab": {
      "provenance": []
    }
  },
  "nbformat": 4,
  "nbformat_minor": 0
}