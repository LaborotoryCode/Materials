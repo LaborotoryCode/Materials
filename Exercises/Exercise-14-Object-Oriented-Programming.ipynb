{
  "cells": [
    {
      "cell_type": "markdown",
      "metadata": {
        "id": "pPEqgq6UqEd6"
      },
      "source": [
        "# Exercise 14\n",
        "\n",
        "Related Notes:\n",
        "- Chapter_09_Object_Oriented_Programming\n",
        "\n",
        "[![Open In Colab](https://colab.research.google.com/assets/colab-badge.svg)](https://colab.research.google.com/github/njc-cz2-2021/Materials/blob/main/Exercises/Exercise-14-Object-Oriented-Programming.ipynb)"
      ]
    },
    {
      "cell_type": "markdown",
      "metadata": {
        "id": "5b8ITgtpqEd8"
      },
      "source": [
        "## Exercise 14.1\n",
        "\n",
        "Consider the following code:\n",
        "\n",
        ">```python\n",
        ">class a():\n",
        ">    def x(self):\n",
        ">        return \"a.x\"\n",
        ">    def y(self):\n",
        ">        return \"a.y\"\n",
        ">    def z(self):\n",
        ">        return \"a.z\"\n",
        ">\n",
        ">class b(a):\n",
        ">    def y(self):\n",
        ">        return \"b.y\"\n",
        ">    def z(self):\n",
        ">        return super().z()\n",
        ">\n",
        ">class c(b):\n",
        ">   def x(self):\n",
        ">\t    return \"c.x\"\n",
        ">   def z(self):\n",
        ">       return super().z()\n",
        ">\n",
        ">aaa = a()\n",
        ">bbb = b()\n",
        ">ccc = c()\n",
        ">```\n",
        "\n",
        "State the output for the following segments of code:\n",
        "\n",
        "1.\t`print(aaa.x())`\n",
        "2.\t`print(aaa.y())`\n",
        "3.\t`print(aaa.z())`\n",
        "4.\t`print(bbb.x())`\n",
        "5.\t`print(bbb.y())`\n",
        "6.\t`print(bbb.z())`\n",
        "7.\t`print(ccc.x())`\n",
        "8.\t`print(ccc.y())`\n",
        "9.\t`print(ccc.z())`"
      ]
    },
    {
      "cell_type": "code",
      "execution_count": null,
      "metadata": {
        "id": "31iWbyYSqEd9"
      },
      "outputs": [],
      "source": [
        "#YOUR_CODE_HERE\n",
        "\"\"\"\n",
        "1. a.x\n",
        "2. a.y\n",
        "3. a.z\n",
        "\n",
        "4. a.x\n",
        "5. b.y\n",
        "6. a.z\n",
        "\n",
        "7. c.x\n",
        "8. b.x\n",
        "9. a.z\n",
        "\"\"\""
      ]
    },
    {
      "cell_type": "markdown",
      "metadata": {
        "id": "mYrqiGHkqEd9"
      },
      "source": [
        "## Exercise 14.2\n",
        "\n",
        "Using UML, design classes for the following quadrilaterals:\n",
        "- Trapezium\n",
        "- Parallelogram\n",
        "- Kite\n",
        "- Rhombus\n",
        "- Rectangle\n",
        "- Square\n",
        "\n",
        "The objective of these classes is to be able to calculate the area and perimeter of any instantiation of the above quadrilaterals.\n",
        "\n",
        "Your design should utilise inheritance and polymorphism to ensure maximal code-reuse.\n",
        "\n",
        "Now implement all the above classes.\n"
      ]
    },
    {
      "cell_type": "code",
      "execution_count": null,
      "metadata": {
        "id": "MIz8lxLGqEd9"
      },
      "outputs": [],
      "source": [
        "#YOUR_CODE_HERE\n",
        "\n",
        "class Trapezium():\n",
        "  def __init__(self, a, b, h):\n",
        "    self.a = a\n",
        "    self.b = b\n",
        "    self.h = h\n",
        "\n",
        "  def area(self):\n",
        "    area = (self.a+self.b)/2 * self.h\n",
        "    return area\n",
        "\n",
        "  def perimeter(self):\n",
        "    excess = abs(self.b-self.a)\n",
        "    sides = (excess**2 + self.h**2)**0.5\n",
        "\n",
        "class Parallelogram():\n",
        "  def __init__"
      ]
    },
    {
      "cell_type": "markdown",
      "metadata": {
        "id": "igANW-qNqEd-"
      },
      "source": [
        "## Exercise 14.3\n",
        "\n",
        "In mathematics, a complex number $z$ is a number that can be expressed in the form $$x+iy$$ where $x,y\\in \\mathbb{R}$ and $i$ is a symbol called the **imaginary unit** such that $i^2=-1$. For example, $2+3i$, $-5-i$, $i=0+1i$, $1.5=1.5+0i$ are all complex numbers.\n",
        "\n",
        "If $z=x+iy$ is a complex number, $x$ is called the real part of $z$ and is denoted as $\\text{Re}(z)$, while $y$ is called the imaginary part of $z$ and is denoted as $\\text{Im}(z)$.\n",
        "\n",
        "A complex number $z=a+ib$ can thus be identified with an ordered pair $(a,b)$ of real numbers, which in turn may be interpreted as coordinates of a point in a two-dimensional space. Thus, we can plot complex numbers on a Cartesian plane where the horizontal (labelled as $\\text{Re}$) axis is generally used to display the real part, with increasing values to the right, and the imaginary part marks the vertical (labelled as $\\text{Im}$) axis, with increasing values upwards.\n",
        "\n",
        "<center>\n",
        "<img src=\"https://github.com/LaborotoryCode/Materials/blob/main/Exercises/img/220px-Complex_number_illustration.svg.png?raw=1\" width=\"250\" align=\"center\"/>\n",
        "</center>\n",
        "\n",
        "Since a complex number is a point on a 2D plane, it makes sense to talk about the distance of the complex number $z$ from the origin.\n",
        "\n",
        "If $z=x+iy$, then the distance of the complex number number from the origin is called the *modulus of $z$*, denoted as $|z|$ and thus, $$|z|=\\sqrt{x^2+y^2}.$$\n",
        "\n",
        "Furthermore, the angle subtended between the positive real axis and the line segment $Oz$ in a **counterclockwise sense**, is called the *argument of $z$* and is denoted as $\\text{arg}(z)$. Note that we will define $-\\pi<\\arg(z)\\leq \\pi$. In other words, if the complex number is located in quadrant 3 and 4, the argument of the complex number will be a negative value.\n",
        "\n",
        "To make the ideas of modulus and argument clearer, observe the following diagram. We have $z=x+iy$, $|z|=r$ and $\\arg(z)=\\varphi$.\n",
        "\n",
        "<center>\n",
        "<img src=\"https://github.com/LaborotoryCode/Materials/blob/main/Exercises/img/220px-Complex_number_illustration_modarg.svg.png?raw=1\" width=\"250\" align=\"center\"/>\n",
        "</center>\n",
        "\n",
        "\n",
        "### Task 1\n",
        "\n",
        "Implement the class `Complex` with the following specification.\n",
        "\n",
        ">```\n",
        ">|  Complex                                |\n",
        ">| --------------------------------------- |\n",
        ">|  real: FLOAT                            |\n",
        ">|  imag: FLOAT                            |\n",
        ">| --------------------------------------- |\n",
        ">|  constructor(real: FLOAT, imag: FLOAT)  |\n",
        ">|  Re(): FLOAT                            |\n",
        ">|  Im(): FLOAT                            |\n",
        ">|  mod(): FLOAT                           |\n",
        ">|  arg(): FLOAT                           |\n",
        ">| --------------------------------------- |\n",
        ">```\n",
        "\n",
        "\n",
        "This class stores a complex number.\n",
        "\n",
        "The class methods work as follows:\n",
        "\n",
        ">```\n",
        ">| Method                            | Description                                               |\n",
        ">|-----------------------------------|-----------------------------------------------------------|\n",
        ">| constructor(re: FLOAT, im: FLOAT) | The initialisation method                                 |\n",
        ">| Re(): COMPLEX                     | Returns the real part of the complex number               |\n",
        ">| Im(): COMPLEX                     | Returns the imaginary part of the complex number          |\n",
        ">| mod(): FLOAT                      | Returns the modulus of the complex number                 |\n",
        ">| arg(): FLOAT                      | Returns the argument of the complex number                |\n",
        ">| __str__(): STRING                 | Returns the string representation of the complex number   |\n",
        ">|                                   | in the form `<real_part>+i*<imaginary_part>`              |\n",
        ">|-----------------------------------|-----------------------------------------------------------|\n",
        ">```"
      ]
    },
    {
      "cell_type": "code",
      "execution_count": null,
      "metadata": {
        "id": "Wmf5J53DqEd-"
      },
      "outputs": [],
      "source": [
        "#YOUR_CODE_HERE\n",
        "import math\n",
        "\n",
        "class Complex:\n",
        "\n",
        "  def __init__(self, real: float, imag: float):\n",
        "    self.real = real\n",
        "    self.imag = imag\n",
        "\n",
        "  def __repr__(self):\n",
        "    return f\"{self.real} + {self.imag}i\"\n",
        "\n",
        "  def Re(self):\n",
        "    return self.real\n",
        "\n",
        "  def Im(self):\n",
        "    return self.imag\n",
        "\n",
        "  def mod(self):\n",
        "    return ((self.real**2 + self.imag**2)**0.5)\n",
        "\n",
        "  def arg(self):\n",
        "    y = math.atan2(self.imag, self.real)\n",
        "    return y\n",
        "\n",
        "  def __add__(self, c):\n",
        "    real = self.Re()+c.Re()\n",
        "    imag = self.Im()+c.Im()\n",
        "    ans = Complex(real, imag)\n",
        "    return ans\n",
        "\n",
        "  def __mul__(self, c):\n",
        "    half1 = (self.Re()*c.Re())-(self.Im()*c.Im())\n",
        "    half2 = (self.Re()*c.Im())+(c.Re()*self.Im())\n",
        "    ans = Complex(half1, half2)\n",
        "    return ans\n"
      ]
    },
    {
      "cell_type": "code",
      "source": [
        "from os import WTERMSIG\n",
        "z = Complex(2, -1)\n",
        "print(z.Re())\n",
        "print(z.Im())\n",
        "print(z.mod())\n",
        "print(z.arg())\n",
        "w = Complex(20, 5)\n",
        "print(z.__add__(w))\n",
        "\n",
        "#Class\n",
        "temp1 = z.mod()\n",
        "temp2 = w.mod()\n",
        "temp3 = temp1*temp2\n",
        "temp4 = z*w\n",
        "temp5 = temp4.mod()\n",
        "print(temp1, temp2, temp3)\n",
        "print(temp5)\n",
        "\n",
        "#Class\n",
        "temp1 = z.arg()\n",
        "temp2 = w.arg()\n",
        "temp4 = z*w\n",
        "temp5 = temp4.arg()\n",
        "print(temp1, temp2, temp5)"
      ],
      "metadata": {
        "colab": {
          "base_uri": "https://localhost:8080/"
        },
        "id": "T0oY-5nLDUV4",
        "outputId": "a538be75-1572-4dd9-8b9a-f0f30553efb8"
      },
      "execution_count": null,
      "outputs": [
        {
          "output_type": "stream",
          "name": "stdout",
          "text": [
            "2\n",
            "-1\n",
            "2.23606797749979\n",
            "-0.4636476090008061\n",
            "22 + 4i\n",
            "2.23606797749979 20.615528128088304 46.09772228646444\n",
            "46.09772228646444\n",
            "-0.4636476090008061 0.24497866312686414 -0.21866894587394195\n"
          ]
        }
      ]
    },
    {
      "cell_type": "markdown",
      "metadata": {
        "id": "H3F9ci7VqEd-"
      },
      "source": [
        "### Task 2\n",
        "Complex numbers can also be added, subtracted, multiplied and divided using the following definition.\n",
        "\n",
        "Let $z_1=x_1+iy_1, z_2=x_2+iy_2$ be complex numbers. Then\n",
        "\n",
        "1. Addition: $$z_1+z_2=(x_1+x_2)+i(y_1+y_2)$$\n",
        "2. Subtraction: $$z_1-z_2=(x_1-x_2)+i(y_1-y_2)$$\n",
        "3. Multiplication: $$z_{1}z_{2}=\\left(x_{1}x_{2}-y_{1}y_{2}\\right)+i\\left(x_{1}y_{2}+x_{2}y_{1}\\right)$$\n",
        "4. Division: $$\\frac{z_1}{z_2}=\\frac{1}{{x_2}^2+{y_2}^2}\\left(\\left(x_{1}x_{2}+y_{1}y_{2}\\right)+i\\left(x_{1}y_{2}-x_{2}y_{1}\\right)\\right)$$\n",
        "\n",
        "Amend your program code to implement the addition, subtraction, multiplication, division between complex numbers with the additional class methods\n",
        "\n",
        ">```\n",
        ">| Method                          | Description                                                 |\n",
        ">|---------------------------------|-------------------------------------------------------------|\n",
        ">| __add__(c:Complex): Complex     | Returns the sum of 'self' with the complex number `c`       |\n",
        ">| __sub__(c:Complex): Complex     | Returns the subtraction of `self` by the complex number `c` |\n",
        ">| __mul__(c:Complex): Complex     | Returns the product of `self` with the complex number `c`   |\n",
        ">| __truediv__(c:Complex): Complex | Returns the division of `self` by the complex number `c`    |\n",
        ">|---------------------------------|-------------------------------------------------------------|\n",
        ">```"
      ]
    },
    {
      "cell_type": "code",
      "execution_count": null,
      "metadata": {
        "id": "Ia6AF6MTqEd_"
      },
      "outputs": [],
      "source": [
        "#YOUR_CODE_HERE\n",
        "\n",
        "class Operations:\n",
        "  def __init__(self, z1: str, z2: str):\n",
        "    self.z1 = Complex(float(z1[0]), float(z1[-2]))\n",
        "    self.z2 = Complex(float(z2[0]), float(z2[-2]))\n",
        "\n",
        "  def add(self):\n",
        "    real = self.z1.Re()+self.z2.Re()\n",
        "    imag = self.z1.Im()+self.z2.Im()\n",
        "    ans = Complex(real, imag)\n",
        "    return ans\n",
        "\n",
        "  def sub(self):\n",
        "    real = self.z1.Re()-self.z2.Re()\n",
        "    imag = self.z1.Im()-self.z2.Im()\n",
        "    return f\"{real} + i{imag}\"\n",
        "\n",
        "  def mul(self):\n",
        "    half1 = (self.z1.Re()*self.z2.Re())-(self.z1.Im()*self.z2.Im())\n",
        "    half2 = (self.z1.Re()*self.z2.Im())+(self.z2.Re()*self.z1.Im())\n",
        "    return f\"{half1} + i{half2}\"\n",
        "\n",
        "  def truediv(self):\n",
        "    frac = 1/(self.z2.Re()**2 + self.z2.Im()**2)\n",
        "    half1 = (self.z1.Re()*self.z2.Re())+(self.z1.Im()*self.z2.Im())\n",
        "    half2 = (self.z1.Re()*self.z2.Im())-(self.z2.Re()*self.z1.Im())\n",
        "    return\n",
        "\n",
        "\n"
      ]
    },
    {
      "cell_type": "code",
      "source": [
        "z = Operations(\"16+17i\", \"54+2i\")\n",
        "print(z.add())"
      ],
      "metadata": {
        "colab": {
          "base_uri": "https://localhost:8080/"
        },
        "id": "XMnZZ3LHIxur",
        "outputId": "f620bb15-da96-48d2-f637-b87e188d0fec"
      },
      "execution_count": null,
      "outputs": [
        {
          "output_type": "stream",
          "name": "stdout",
          "text": [
            "10.0 + 9.0i\n"
          ]
        }
      ]
    },
    {
      "cell_type": "markdown",
      "metadata": {
        "id": "H7ceCfrFqEd_"
      },
      "source": [
        "## Exercise 14.4\n",
        "\n",
        "Refer back to Exercise 5.1 on Vectors. Implement the class `3DVector` based on the functions and attributes described in the question."
      ]
    },
    {
      "cell_type": "code",
      "execution_count": null,
      "metadata": {
        "id": "GRpUB0IBqEd_"
      },
      "outputs": [],
      "source": [
        "#YOUR_CODE_HERE"
      ]
    },
    {
      "cell_type": "markdown",
      "metadata": {
        "id": "jAAf2JWGqEd_"
      },
      "source": [
        "## Exercise 14.5\n",
        "\n",
        "Implement the class `LONGINT` with the following specification.\n",
        "\n",
        ">```\n",
        ">| LONGINT                        |\n",
        ">|--------------------------------|\n",
        ">|  value: STRING                 |\n",
        ">|  sign: INTEGER                 |\n",
        ">|--------------------------------|\n",
        ">|  constructor(STRING)           |\n",
        ">|  getValue(): STRING            |\n",
        ">|  setValue(s:STRING)            |\n",
        ">|  add(l:LONGINT): LONGINT       |\n",
        ">|  subtract(l:LONGINT): LONGINT  |\n",
        ">|  multiply(l:LONGINT): LONGINT  |\n",
        ">|  divide(l:LONGINT): FLOAT      |\n",
        ">|  quotient(l:LONGINT): LONGINT  |\n",
        ">|  modulo(l:LONGINT): LONGINT    |\n",
        ">|  power(l:LONGINT): LONGINT     |\n",
        ">|  factorial(): LONGINT          |\n",
        ">|--------------------------------|\n",
        ">```\n",
        "\n",
        "This class stores a signed integer of any length.\n",
        "\n",
        "The class methods work as follows:\n",
        "\n",
        ">```\n",
        ">| Method                        | Description                                                       |\n",
        ">|-------------------------------|-------------------------------------------------------------------|\n",
        ">| constructor()                 | The initialisation method                                         |\n",
        ">| getValue(): STRING            | Reassigns the signed value of **this**                            |\n",
        ">| add(l:LONGINT): LONGINT       | Returns the addition of the given `LONGINT` and `self`            |\n",
        ">| subtract(l:LONGINT): LONGINT  | Returns the subtraction of `LONGINT` from `self`                  |\n",
        ">| multiply(l:LONGINT): LONGINT  | Returns the product of the given `LONGINT` and `self`             |\n",
        ">| divide(l:LONGINT): FLOAT      | Returns `self` divided by the given `LONGINT`                     |\n",
        ">| quotient(l:LONGINT): LONGINT  | Returns the quotient from `self` divided by the given `LONGINT`   |\n",
        ">| modulo(l:LONGINT): LONGINT    | Returns the remainder from `self` divided by the given `LONGINT`  |\n",
        ">| power(l:LONGINT): LONGINT     | Returns this to the power of the given `LONGINT`                  |\n",
        ">| factorial(): LONGINT          | Returns factorial of `self`                                       |\n",
        ">|-------------------------------|-------------------------------------------------------------------|\n",
        ">```"
      ]
    },
    {
      "cell_type": "code",
      "execution_count": null,
      "metadata": {
        "id": "s2ac6w1zqEeA"
      },
      "outputs": [],
      "source": [
        "#YOUR_CODE_HERE\n"
      ]
    },
    {
      "cell_type": "markdown",
      "metadata": {
        "id": "JDPj9h96qEeA"
      },
      "source": [
        "## Exercise 14.6 2019/A Level/P1/Q3 H2 Computing\n",
        "\n",
        "A program is to be written to implement a to-do list using object-oriented programming (OOP).\n",
        "The list shows tasks that need to be done.\n",
        "\n",
        "Each task is given a category and a description.\n",
        "\n",
        "The base class will be called `ToDo` and is designed as follows:\n",
        "\n",
        ">```\n",
        ">| ToDo                                 |\n",
        ">|--------------------------------------|\n",
        ">|  category: STRING                    |\n",
        ">|  description: STRING                 |\n",
        ">|--------------------------------------|\n",
        ">|  constructor(c : STRING, d : STRING) |\n",
        ">|  set_category(s : STRING)            |\n",
        ">|  set_description(s: STRING)          |\n",
        ">|  get_category(): STRING              |\n",
        ">|  get_description(): STRING           |\n",
        ">|  summary(): STRING                   |\n",
        ">|--------------------------------------|\n",
        ">```\n",
        "\n",
        "The `summary()` method returns the category and description as a single string.\n",
        "\n",
        "### Task 1\n",
        "Write program code to define the class ToDo.  \n",
        "<div style=\"text-align: right\">[1]</div>\n",
        "\n"
      ]
    },
    {
      "cell_type": "code",
      "execution_count": 1,
      "metadata": {
        "id": "Ep99i-p9qEeA"
      },
      "outputs": [],
      "source": [
        "#YOUR_CODE_HERE\n",
        "class ToDo:\n",
        "  def __init__(self, category, description):\n",
        "    self.category = category\n",
        "    self.description = description\n",
        "\n",
        "  def __init__(self, c, d):\n",
        "    self.category = c\n",
        "    self.description = d\n",
        "\n",
        "  def set_category(self, s):\n",
        "    self.category = s\n",
        "\n",
        "  def set_description(self, s):\n",
        "    self.description = s\n",
        "\n",
        "  def get_category(self):\n",
        "    return self.category\n",
        "\n",
        "  def get_description(self):\n",
        "    return self.description\n",
        "\n",
        "  def summary(self):\n",
        "    return (f\"{self.category} {self.description}\")\n"
      ]
    },
    {
      "cell_type": "markdown",
      "metadata": {
        "id": "9Tx9vSnqqEeA"
      },
      "source": [
        "Tasks should be sorted alphabetically by category. Within each category. tasks should be sorted alphabetically by description.\n",
        "\n",
        "A task to be added to the list is compared to the tasks already in the list to determine its correct position in the list. If the list is empty. it is added to the beginning of the list.\n",
        "\n",
        "This comparison will use an additional member method,\n",
        "\n",
        ">```python\n",
        ">compare_with (td : ToDo) : INTEGER\n",
        ">```\n",
        "\n",
        "This function compares the instance (the item in the list) and the `ToDO` object passed to it. returning one of three values:\n",
        "\n",
        "> `-1` if the instance is before the given `ToDo` <br>\n",
        "> `0` if the two are equal <br>\n",
        "> `+1` if the instance is after the given `ToDo` <br>\n",
        "\n",
        "### Task 2\n",
        "\n",
        "There are four objects defined in the text file `2019_TASK3_2.TXT` in the `resources` folder.\n",
        "\n",
        "Write program code to:\n",
        "\n",
        "- implement the `compare_with()` method\n",
        "- create an empty list of `ToDo` objects\n",
        "- add each of the four objects in the text file `2019_TASK3_2.TXT` to its appropriate place in the list\n",
        "- print out the list contents using the `summary()` method.\n",
        "\n",
        "<div style=\"text-align: right\">[13]</div>"
      ]
    },
    {
      "cell_type": "code",
      "execution_count": null,
      "metadata": {
        "id": "HKIP1cmbqEeA"
      },
      "outputs": [],
      "source": [
        "#YOUR_CODE_HERE\n",
        "class DatedToDo(ToDo):\n",
        "  def __init__(self, dt, c, d):\n",
        "    self.due_date = dt\n",
        "\n",
        "  def set_due_date(d):\n",
        "    return"
      ]
    },
    {
      "cell_type": "markdown",
      "metadata": {
        "id": "eK8Aj-zmqEeA"
      },
      "source": [
        "The to-do list can have items with extra information. One such item has a date by which the task should be completed.\n",
        "\n",
        "The `DatedToDo` class inherits from the `ToDo` class, extending it to have a `due_date`. designed as follows:\n",
        "\n",
        ">```\n",
        ">| DatedToDo : ToDo                              |\n",
        ">|-----------------------------------------------|\n",
        ">| due_date: DATE                                |\n",
        ">|-----------------------------------------------|\n",
        ">| constructor(dt: DATE, c : STRING, d : STRING) |\n",
        ">| set_due_date(d : DATE)                        |\n",
        ">| get_due_date(): DATE                          |\n",
        ">|-----------------------------------------------|\n",
        ">```\n",
        "\n",
        "The `DatedToDo` class should extend the `compare_with()` method to ensure that tasks are ordered by `ascending due_date`, and then by the ordering used by the base `compare_with()` method. The `summary()` method should also be extended to return the `due_date` and the return values of the base `summary()` method.\n",
        "\n",
        "### Task 3\n",
        "\n",
        "There are seven objects defined in the text file `2019_TASK3_3.TXT` in the `resources` folder.\n",
        "\n",
        "Amend your program code to:\n",
        "\n",
        "- implement the `DatedToDo` class. with `constructor`, `get_due_date` and `set_due_date`\n",
        "- implement the extended `compare_with()` method\n",
        "- implement the extended `summary()` method\n",
        "- ensure all seven objects in the text file `2019_TASK3_3.TXT` are added to the list\n",
        "- print out the list contents using the `summary()` method.\n",
        "\n",
        "<div style=\"text-align: right\">[12]</div>"
      ]
    },
    {
      "cell_type": "code",
      "execution_count": null,
      "metadata": {
        "id": "lxlv05UeqEeB"
      },
      "outputs": [],
      "source": [
        "#YOUR_CODE_HERE\n",
        "def"
      ]
    },
    {
      "cell_type": "markdown",
      "metadata": {
        "id": "_ckAIH4JqEeB"
      },
      "source": [
        "When a task in the to-do list has been completed, it should be removed.\n",
        "\n",
        "### Task 4\n",
        "\n",
        "There are four completed tasks defined in the text file `2019_TASK3_4.TXT` in the resources folder.\n",
        "\n",
        "if any of the four tasks exists in the list, it should be removed.\n",
        "\n",
        "Amend your program to:\n",
        "\n",
        "- recreate the list of seven tasks from Task 3\n",
        "- check if each of the four completed tasks in the text file `2019_TASK3_4.TXT` exists in the list and:\n",
        "    - remove it from the list if it does or\n",
        "    - print a warning message if the completed task does not exist\n",
        "- print out the list after all four objects have been processed.\n",
        "\n",
        "<div style=\"text-align: right\">[10]</div>"
      ]
    },
    {
      "cell_type": "code",
      "execution_count": null,
      "metadata": {
        "id": "7JnDqkRMqEeB"
      },
      "outputs": [],
      "source": [
        "#YOUR_CODE_HERE"
      ]
    },
    {
      "cell_type": "markdown",
      "metadata": {
        "id": "F__89IlrqEeB"
      },
      "source": [
        "## Exercise 14.7 2017/A Level/P2/Q3 H2 Computing (Modified)\n",
        "\n",
        "1. Explain what is meant by an object in object-oriented programming.\n",
        "<div style=\"text-align: right\">[2]</div>"
      ]
    },
    {
      "cell_type": "code",
      "execution_count": null,
      "metadata": {
        "id": "TlqSP19xqEeB"
      },
      "outputs": [],
      "source": [
        "#YOUR_ANSWER_HERE"
      ]
    },
    {
      "cell_type": "markdown",
      "metadata": {
        "id": "h-yOxJqDqEeB"
      },
      "source": [
        "2. (a) A student is writing a program to represent people in a university. Tutors, office workers, lecturers and professors are all employed by the university. A professor is a senior lecturer. The university educates both undergraduate and graduate students.\n",
        "\n",
        "   The student's program contains a class with the identifier `Person`. Sub-classes share the characteristics of this class.\n",
        "   \n",
        "   Copy and complete the following inheritance diagram by adding sub-classes `Professor`, `OfficeWorker`, `Lecturer`, `Undergraduate`, `Staff`, `Graduate`, `Student` and `Tutor`.\n",
        "\n",
        "<div style=\"text-align: right\">[2]</div>\n",
        "\n",
        "<center>\n",
        "<img src=\"https://github.com/LaborotoryCode/Materials/blob/main/Exercises/img/exercise14-pic1.png?raw=1\" width=\"400\" align=\"center\"/>\n",
        "</center>\n",
        "\n",
        "2. (b) Explain why inheritance is an important feature of object-oriented programming.\n",
        "<div style=\"text-align: right\">[2]</div>"
      ]
    },
    {
      "cell_type": "code",
      "execution_count": null,
      "metadata": {
        "id": "3vV2RN44qEeB"
      },
      "outputs": [],
      "source": [
        "#YOUR_ANSWER_HERE"
      ]
    },
    {
      "cell_type": "markdown",
      "metadata": {
        "id": "4g6inedxqEeB"
      },
      "source": [
        "## Exercise 14.8 2018/A Level/P1/Q4 H2 Computing\n",
        "\n",
        "In a computer game, a player (`\"O“`) moves around a maze measuring 10 metres by 11 metres to collect a prize (`\"P\"`). The prize is placed at a random position within the maze. The prize position is not where a wall (`”X”`) appears in the maze. An empty position is indicated with a full-stop (`\".\"`). The maze is represented on the screen by a rectangular grid. Each square metre of the maze is represented by an $x$-ooordinate and a $y$-coordinate. The top left square metre of the puzzle display has $x = 0$ and $y = 0$.\n",
        "\n",
        "The player moves left, right, up or down according to a direction entered by the user. The game is turn-based; a user enters the direction, their player moves one position in that direction. It the direction would place the player on a wall, then the player does not move. The maze is displayed after each move.\n",
        "\n",
        ">```python\n",
        ">X X X X X X X X X X\n",
        ">X . . . . . . . . X\n",
        ">X . X . X . X X . X\n",
        ">X . X . . P . . . X\n",
        ">X . X X X X X X . X\n",
        ">X . . . O . . . . X\n",
        ">X . X . X X . X . X\n",
        ">X . X . . . . X . X\n",
        ">X . X X . X X X . X\n",
        ">X . . . . . . . . X\n",
        ">X X X X X X X X X X\n",
        ">```\n",
        "\n",
        "### Task 1\n",
        "\n",
        "Write a program to display the maze as shown.\n",
        "\n",
        "- The maze should be stored in a suitable data structure.\n",
        "\n",
        "- The data structure will allow fixed loop(s) to be used to display the maze.\n",
        "\n",
        "The maze is given in the text file `MAZE.TXT` under resources. You may read in the data from this file or place the data in your program using any suitable method.\n",
        "<div style=\"text-align: right\">[6]</div>"
      ]
    },
    {
      "cell_type": "code",
      "execution_count": null,
      "metadata": {
        "id": "zoy4d7eOqEeC"
      },
      "outputs": [],
      "source": [
        "#YOUR_CODE_HERE"
      ]
    },
    {
      "cell_type": "markdown",
      "metadata": {
        "id": "kDPQJ2-xqEeC"
      },
      "source": [
        "### Task 2\n",
        "\n",
        "The prize is placed randomly on the maze. It cannot appear in the same grid position as a wall (`\"X\"`). Add to your program code to place the prize at a random position. Take a screenshot of the maze with the prize displayed in it.\n",
        "\n",
        "<div style=\"text-align: right\">[5]</div>"
      ]
    },
    {
      "cell_type": "code",
      "execution_count": null,
      "metadata": {
        "id": "uWl5OpZPqEeC"
      },
      "outputs": [],
      "source": [
        "#YOUR_CODE_HERE"
      ]
    },
    {
      "cell_type": "markdown",
      "metadata": {
        "id": "w8X_K3n8qEeC"
      },
      "source": [
        "The player is represented by the character `\"0\"`. The character starts the game in a central position on the grid. for example, `x = 4` and `y = 5`. To move the character, the user is prompted for a direction. The following are valid inputs:\n",
        "\n",
        "If the next position for the player (`\"O\"`) is a wall (`\"X\"`), then the player stays in their current position; this is called collision detection.\n",
        "\n",
        "When the player enters the move, a new position for the player (`\"0\"`) is calculated and the maze is displayed. The previous position is changed back to a `”.\"` when the player has a new position. The moves are repeated until the player is at the same position as the prize.\n",
        "\n",
        "### Task 3\n",
        "Add to your program code to:\n",
        "- place the player on the grid at a central position on the grid\n",
        "- take in and validate a direction\n",
        "- calculate a new position\n",
        "- check this position is not a wall\n",
        "- update the grid so that the previous position of `\"O\"` is replaced with a `\".\"` and `\"O\"` is located in its new position\n",
        "- continue this until the player is at the same position as the prize.\n",
        "\n",
        "<div style=\"text-align: right\">[16]</div>"
      ]
    },
    {
      "cell_type": "code",
      "execution_count": null,
      "metadata": {
        "id": "eelJzMNzqEeC"
      },
      "outputs": [],
      "source": [
        "#YOUR_CODE_HERE"
      ]
    },
    {
      "cell_type": "markdown",
      "metadata": {
        "id": "WThVNac-qEeC"
      },
      "source": [
        "When the player and the prize are at the same position. the message “Player has reached the prize\" is displayed and the game ends.\n",
        "\n",
        "### Task 4\n",
        "\n",
        "Add to your program, code to end the game when this condition is met, and display the required message. Produce screenshots to show key elements of your program are functioning.\n",
        "\n",
        "The screenshots required are:\n",
        "- entering each direction\n",
        "- player changing position\n",
        "- end of game\n",
        "\n",
        "<div style=\"text-align: right\">[3]</div>"
      ]
    },
    {
      "cell_type": "code",
      "execution_count": null,
      "metadata": {
        "id": "dzIY3VSiqEeC"
      },
      "outputs": [],
      "source": [
        "#YOUR_CODE_HERE"
      ]
    }
  ],
  "metadata": {
    "kernelspec": {
      "display_name": "Python 3",
      "language": "python",
      "name": "python3"
    },
    "language_info": {
      "name": "python",
      "version": "3.10.2"
    },
    "vscode": {
      "interpreter": {
        "hash": "a42ccb73e7d9bfdf27e036f1d2b8b681e55fc0743cc5586bc2474d4a60f4b886"
      }
    },
    "colab": {
      "provenance": []
    }
  },
  "nbformat": 4,
  "nbformat_minor": 0
}