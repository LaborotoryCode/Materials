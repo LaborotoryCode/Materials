{
  "cells": [
    {
      "cell_type": "markdown",
      "metadata": {
        "id": "JAjII6oWgxM0"
      },
      "source": [
        "# Exercise 5\n",
        "\n",
        "Related Notes:\n",
        "- Chapter_05_File_IO\n",
        "\n",
        "[![Open In Colab](https://colab.research.google.com/assets/colab-badge.svg)](https://colab.research.google.com/github/njc-cz2-2021/Materials/blob/main/Exercises/Exercise-05-File_IO.ipynb)"
      ]
    },
    {
      "cell_type": "markdown",
      "metadata": {
        "id": "MsETjgm2gxM0"
      },
      "source": [
        "## Exercise 5.1\n",
        "\n",
        "Write following list `s` into a text file `q1.txt` with each item occupying 1 line.\n",
        "\n",
        ">``` python\n",
        ">s = [chr(i) + '.txt' for i in range(ord('A'), ord('F'))]\n",
        ">```\n",
        "\n",
        "Use following command in Jupyter Notebook to open `q1.txt` to verify the content in the file.\n",
        "\n",
        ">`!notepad q1.txt`"
      ]
    },
    {
      "cell_type": "code",
      "source": [
        "q1 = \"\"\"\n",
        "A.txt\n",
        "B.txt\n",
        "C.txt\n",
        "D.txt\n",
        "E.txt\n",
        "\"\"\""
      ],
      "metadata": {
        "id": "-t_KsB3bhMXk"
      },
      "execution_count": null,
      "outputs": []
    },
    {
      "cell_type": "code",
      "execution_count": null,
      "metadata": {
        "id": "eGzrBldZgxM1"
      },
      "outputs": [],
      "source": [
        "#YOUR_CODE_HERE\n",
        "with open(\"q1.txt\", \"w\") as f:\n",
        "  f.write(q1)"
      ]
    },
    {
      "cell_type": "code",
      "source": [
        "with open(\"q1.txt\", \"r\") as f:\n",
        "  s = f.read()\n",
        "  print(s)"
      ],
      "metadata": {
        "id": "yEx0nI9MiV3_",
        "outputId": "3706075b-6363-4f32-e172-3134a506b066",
        "colab": {
          "base_uri": "https://localhost:8080/"
        }
      },
      "execution_count": null,
      "outputs": [
        {
          "output_type": "stream",
          "name": "stdout",
          "text": [
            "\n",
            "A.txt\n",
            "B.txt\n",
            "C.txt\n",
            "D.txt\n",
            "E.txt\n",
            "\n"
          ]
        }
      ]
    },
    {
      "cell_type": "markdown",
      "metadata": {
        "id": "9xxELtPvgxM1"
      },
      "source": [
        "## Exercise 5.2\n",
        "\n",
        "For each line of text in `q1.txt`, generate an empty text file and name the file using that line of text. If file already exists, remove it before generating a new file.\n",
        "\n",
        "Use the following code to check if a file exists.\n",
        "\n",
        ">``` python\n",
        ">import os\n",
        ">if os.path.exists(file_path): pass\n",
        ">```\n",
        "\n",
        "Use following command in Jupyter Notebook to confirm that you have generated all files.\n",
        "\n",
        ">``` bash\n",
        ">!ls *.txt\n",
        ">```"
      ]
    },
    {
      "cell_type": "code",
      "execution_count": null,
      "metadata": {
        "id": "1IP8ThPPgxM1",
        "outputId": "b9b52e18-72d2-43a6-aa48-a83498b4d1c7",
        "colab": {
          "base_uri": "https://localhost:8080/"
        }
      },
      "outputs": [
        {
          "output_type": "stream",
          "name": "stdout",
          "text": [
            "done\n"
          ]
        }
      ],
      "source": [
        "#YOUR_CODE_HERE\n",
        "with open(\"q1.txt\", \"r\") as f:\n",
        "  s = f.read()\n",
        "array = s.split(\"\\n\")\n",
        "array = array[1:-1]\n",
        "for name in array:\n",
        "  with open(name, \"w\") as f:\n",
        "    f.write(\"\")\n",
        "print(\"done\")"
      ]
    },
    {
      "cell_type": "markdown",
      "metadata": {
        "id": "F5_a5zUBgxM1"
      },
      "source": [
        "## Exercise 5.3\n",
        "\n",
        "Write code to generate all the positive integers up to $n$ that are perfect squares and save them in a text file called `PERFECT_SQUARES.TXT`. Note that each line within the file should contain one integer, and the last character within the file should be an end line character."
      ]
    },
    {
      "cell_type": "code",
      "execution_count": null,
      "metadata": {
        "id": "oyI8en6-gxM1"
      },
      "outputs": [],
      "source": [
        "#YOUR_CODE_HERE\n",
        "n = 50\n",
        "square = []\n",
        "for i in range(n):\n",
        "  if (i**0.5)%1 == 0:\n",
        "    square.append(i)\n",
        "\n",
        "with open(\"PERFECT_SQUARES.txt\", \"w\") as f:\n",
        "  for num in square:\n",
        "    f.write(f\"{num}\\n\")"
      ]
    },
    {
      "cell_type": "markdown",
      "metadata": {
        "id": "anX3w2oxgxM2"
      },
      "source": [
        "## Exercise 5.4\n",
        "\n",
        "Write code to generate all the positive integers from $n + 1$ to $n + m$, and then append them to the file used in question 1. (Note, do not overwrite the perfect squares from Question 1.)"
      ]
    },
    {
      "cell_type": "code",
      "execution_count": null,
      "metadata": {
        "id": "vOsf1I0wgxM2"
      },
      "outputs": [],
      "source": [
        "#YOUR_CODE_HERE\n"
      ]
    },
    {
      "cell_type": "markdown",
      "metadata": {
        "id": "av7nV-QwgxM2"
      },
      "source": [
        "## Exercise 5.5\n",
        "\n",
        "A log of a certain boss fight from a certain game is stored inside the file `log_ex8.csv` under the folder `resources`. The csv file contains the following header.\n",
        "\n",
        "- `'Parse%'`  refers to the performance of the character relative to all other players in the world,\n",
        "- `'Name'` refers to the name of the character in the game,\n",
        "- `'Amount'`  refers to the amount of damage\n",
        "- `'iLvL'`  refers to the quality of the equipment the character is using,\n",
        "- `'iLvL%'` refers to the performance of the player relative to players with similar quality of equipment,\n",
        "- `'Active Time'` refers to the percentage of time spend by the character doing damage during the fight.\n",
        "- `'DPS'` refers to the amount of damage done per second in the fight.\n",
        "\n",
        "Your task is to:\n",
        "\n",
        "- Store the contents of the csv file into a list `records` where each element in the list is itself a list where the elements correspond to the `Parse%`,`Name`,`Amount`,`iLvL`,`iLvL%`,`Active Time`,`DPS` values for each line in the csv file.\n",
        "- Create an empty list called `player_name`.\n",
        "- iterate over each element of `records` appending the player names to `player_name`.\n",
        "- Print each name in `player_name` in alphabetical order."
      ]
    },
    {
      "cell_type": "code",
      "execution_count": 25,
      "metadata": {
        "id": "sVBYtfn5gxM2",
        "outputId": "88cad40e-9820-46e9-9af2-90531dcde0c7",
        "colab": {
          "base_uri": "https://localhost:8080/"
        }
      },
      "outputs": [
        {
          "output_type": "stream",
          "name": "stdout",
          "text": [
            "['Angers', 'Anothervc', 'Avey', 'Biraprie', 'Chrisfumi', 'Chrissinger', 'Darkietank', 'Dewgie', 'Ericlock', 'Exolaris', 'Fyrebird', 'Gamheals', 'Gdook', 'Haloxd', 'Jari', 'Keipra', 'Kieu', 'Knoxvegas', 'Kolhito', 'Lymos', 'Makotoase', 'Masachi', 'Masakins', 'Nómi', 'Ovy', 'Paeldryth', 'Pappaslop', 'Plastral', 'Revtide', 'Spooknspell', 'Stormblast', 'Synesthetix', 'Wôes']\n"
          ]
        }
      ],
      "source": [
        "#YOUR_CODE_HERE\n",
        "import csv\n",
        "\n",
        "records = []\n",
        "with open(\"log_ex8.csv\", \"r\") as f:\n",
        "  c = csv.reader(f)\n",
        "  for row in c:\n",
        "    records.append(row)\n",
        "\n",
        "player_name = []\n",
        "\n",
        "for i in range(1, len(records)):\n",
        "  player_name.append(records[i][1])\n",
        "print(sorted(player_name))"
      ]
    },
    {
      "cell_type": "markdown",
      "metadata": {
        "id": "f1cGD8z-gxM2"
      },
      "source": [
        "## Exercise 5.6\n",
        "\n",
        "Download the file: https://archive.ics.uci.edu/ml/machine-learning-databases/iris/iris.data\n",
        "\n",
        "Write code to read and store the contents of this comma separated file within a 2D List, $L$, such that $L[i]$ corresponds to the sample entry on the $i$-th line of the file, and $L[i][j]$ corresponds to the $j$-th value of the $i$-th entry.\n",
        "Print the contents of the 2D List to verify that you have stored the contents correctly.\n"
      ]
    },
    {
      "cell_type": "code",
      "source": [
        "!wget -o iris.csv https://archive.ics.uci.edu/ml/machine-learning-databases/iris/iris.data"
      ],
      "metadata": {
        "id": "vSCKZ164_IrT"
      },
      "execution_count": 22,
      "outputs": []
    },
    {
      "cell_type": "code",
      "execution_count": null,
      "metadata": {
        "id": "Yok_4xx2gxM2"
      },
      "outputs": [],
      "source": [
        "#YOUR_CODE_HERE"
      ]
    },
    {
      "cell_type": "markdown",
      "metadata": {
        "id": "yafOzvDngxM2"
      },
      "source": [
        "## Exercise 5.7\n",
        "\n",
        "Each line in the file at: http://itu.dk/people/pagh/sad12/primes1000000.txt represents a prime number below 1,000,000.\n",
        "\n",
        "Write a function that uses the above file to test if a given positive integer below 1,000,000 is a prime number. If the given numbers exceeds 1,000,000, then utilise a separate function to calculate if it is a prime."
      ]
    },
    {
      "cell_type": "code",
      "execution_count": null,
      "metadata": {
        "id": "leDcwtEagxM2"
      },
      "outputs": [],
      "source": [
        "#YOUR_CODE_HERE"
      ]
    },
    {
      "cell_type": "markdown",
      "metadata": {
        "id": "hu6jFFa5gxM2"
      },
      "source": [
        "## Exercise 5.8\n",
        "\n",
        "A mathematical equation $y=f(x)$ can be visualized on a cartesian plane as the set of all the points $(x,y)$ where $y=f(x)$. Write a code that\n",
        "\n",
        "1. generates 100 points that satisfy the equation $y=x^2$ for $-10\\leq x\\leq 10$ (for simplicity, take the uniform spacing for the $x$-values of the points),and\n",
        "2. saves them into a text file named `ex8_8.txt`. Each line in the file is of the form $(x,y)$,\n",
        "3. load the points from `ex8_8.txt` and using the module `matplotlib`, show the plot.\n"
      ]
    },
    {
      "cell_type": "code",
      "execution_count": null,
      "metadata": {
        "id": "74Ip6D7tgxM2"
      },
      "outputs": [],
      "source": [
        "#YOUR_CODE_HERE"
      ]
    },
    {
      "cell_type": "markdown",
      "metadata": {
        "id": "8k_Txv3fgxM3"
      },
      "source": [
        "## Exercise 5.9\n",
        "\n",
        "A text file, `NOI_24_RESULT.txt` contains the results of the medallist recipients for the 24th National Olympiad in Informatics.\n",
        "\n",
        "Write a code to:\n",
        "\n",
        "- read the data from the text file,\n",
        "- store the school name and medal counts in a Python dictionary `medal_count` where the school name is the key and the associated value is a tuple of the form `(GOLD, SILVER, BRONZE)`,\n",
        "- print out the top 5 school with the highest number of medals won, regardless of the medal type."
      ]
    },
    {
      "cell_type": "code",
      "execution_count": null,
      "metadata": {
        "id": "0sHNL03egxM3"
      },
      "outputs": [],
      "source": [
        "#YOUR_CODE_HERE\n",
        "with open(\"NOI_24_RESULT.csv\", \"r\") as f:\n",
        "  s = csv.reader(f)\n",
        "  array = []\n",
        "  for row in s:\n",
        "    if len(row)==2:\n",
        "      array.append(row)\n",
        "    elif len(row)==3:\n",
        ""
      ]
    },
    {
      "cell_type": "markdown",
      "metadata": {
        "id": "1krfdwoqgxM3"
      },
      "source": [
        "## Exercise 5.10\n",
        "\n",
        "A text file, `MARKET_PRICES.TXT`, contains the in-game prices for 6 items, Widowbloom, Rising Glory, Marrowroot, Vigil's Torch, Nighshade and Spectral Flask of Power from 1 December 2020 to 3 March 2021. Each line contains tab-delimited data that shows the date and the prices (in copper coins) of the 6 items.\n",
        "\n",
        "Each line is in the format:\n",
        "\n",
        ">``` text\n",
        ">YYYY-MM-DD\\tWIDOWBLOOM\\tRISING_GLORY\\t\\MARROWROOT\\tVIGILS_TORCH\\tNIGHTSHADE\\tSPECTRAL_FLASK_OF_POWER\\n\n",
        ">```\n",
        "\n",
        "- The date is of the form `YYYY-MM-DD`, for example, `2020-12-03` is 3rd December, 2020.\n",
        "- WIDOWBLOOM, RISING_GLORY, MARROWROOT, VIGILS_TORCH, NIGHTSHADE, SPECTRAL_FLASK_OF_POWER are all integers.\n",
        "- `\\t` represents the tab character\n",
        "- `\\n` represents the newline character\n",
        "\n",
        "The text file is stored in ascending order of date and time.\n",
        "\n",
        "### Task 1\n",
        "\n",
        "Write a program to:\n",
        "\n",
        "- read the price data from the text file,\n",
        "- for each of the 6 items:\n",
        "    - find the highest price and print this value,\n",
        "    - find the lowest price and print this value.\n",
        "\n",
        "### Task 2\n",
        "\n",
        "Suppose you want to play the market by buying and selling the 6 items above, one way to decide on items to invest in is by using the mean and variance of the daily rate of returns of the items. The latter is used to quantify the risk of holding such item.\n",
        "\n",
        "For an item $j$,\n",
        "- the **daily rate of return** of day $i$ to $i+1$, denoted as $r_i$ is defined to be $$r_i=\\frac{p_{i+1}-p_{i}}{p_i},$$ where $p_{i+1}$ and $p_i$ are prices of the item on day $i+1$ and day $i$ respectively,\n",
        "- the mean of the daily rate of returns, denoted as $\\overline{r}$, is just $\\frac{\\sum r_i}{n}$, where $n$ is the number of daily rate of returns recorded,\n",
        "- the variance of the daily rate of returns is $$\\frac{\\sum{(r_i-\\overline{r})^2}}{n},$$ where $\\overline{r}$ is the mean of the daily rate of returns and again $n$ is the number of daily returns recorded.\n",
        "\n",
        "Write a program to:\n",
        "\n",
        "- for each of the 6 items:\n",
        "    - find the mean of the daily rate of return,\n",
        "    - find the variance of the daily rate of return."
      ]
    },
    {
      "cell_type": "code",
      "execution_count": null,
      "metadata": {
        "id": "SvHul6iCgxM3"
      },
      "outputs": [],
      "source": [
        "#YOUR_CODE_HERE"
      ]
    }
  ],
  "metadata": {
    "kernelspec": {
      "display_name": "Python 3",
      "language": "python",
      "name": "python3"
    },
    "language_info": {
      "codemirror_mode": {
        "name": "ipython",
        "version": 3
      },
      "file_extension": ".py",
      "mimetype": "text/x-python",
      "name": "python",
      "nbconvert_exporter": "python",
      "pygments_lexer": "ipython3",
      "version": "3.10.2 (tags/v3.10.2:a58ebcc, Jan 17 2022, 14:12:15) [MSC v.1929 64 bit (AMD64)]"
    },
    "vscode": {
      "interpreter": {
        "hash": "a42ccb73e7d9bfdf27e036f1d2b8b681e55fc0743cc5586bc2474d4a60f4b886"
      }
    },
    "colab": {
      "provenance": []
    }
  },
  "nbformat": 4,
  "nbformat_minor": 0
}